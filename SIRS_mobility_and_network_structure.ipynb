{
 "cells": [
  {
   "cell_type": "code",
   "execution_count": 2,
   "metadata": {},
   "outputs": [],
   "source": [
    "import numpy as np\n",
    "import matplotlib.pyplot as plt \n",
    "import networkx as nx"
   ]
  },
  {
   "cell_type": "markdown",
   "metadata": {},
   "source": [
    "Notation: \n",
    "* SF = scale free\n",
    "* ER = Erdosh Renyi"
   ]
  },
  {
   "cell_type": "code",
   "execution_count": 181,
   "metadata": {},
   "outputs": [],
   "source": [
    "### PARAMETERS ###\n",
    "N = 1000\n",
    "k0 = 2\n",
    "p_mob = 0.05\n",
    "eps = 0.1\n",
    "beta = 0.09\n",
    "mu = 0.05 # change this, it's the most unreasonable estimate\n",
    "gamma = 0.01"
   ]
  },
  {
   "cell_type": "code",
   "execution_count": 143,
   "metadata": {},
   "outputs": [
    {
     "name": "stdout",
     "output_type": "stream",
     "text": [
      "K0: \t 2\n",
      "Kmean:  3.992\n"
     ]
    }
   ],
   "source": [
    "G_sf = nx.barabasi_albert_graph(N,k0) #number of nodes, number of links added for each node\n",
    "mean_deg_sf = sum([k for i, k in G_sf.degree()])/len(G_sf.degree())\n",
    "print(\"K0: \\t\", k0)\n",
    "print(\"Kmean: \", mean_deg_sf)"
   ]
  },
  {
   "cell_type": "code",
   "execution_count": 144,
   "metadata": {},
   "outputs": [
    {
     "name": "stdout",
     "output_type": "stream",
     "text": [
      "Kmean:  4.174\n"
     ]
    }
   ],
   "source": [
    "p = k0/N*2 # prob of creating an edge\n",
    "G_er = nx.binomial_graph(N,p)\n",
    "mean_deg_er = sum([k for i, k in G_er.degree()])/len(G_er.degree())\n",
    "print(\"Kmean: \", mean_deg_er)"
   ]
  },
  {
   "cell_type": "markdown",
   "metadata": {},
   "source": [
    "Now we get the adjacency matrices"
   ]
  },
  {
   "cell_type": "code",
   "execution_count": 145,
   "metadata": {},
   "outputs": [],
   "source": [
    "A_sf = nx.to_numpy_matrix(G_sf)\n",
    "A_er = nx.to_numpy_matrix(G_er)"
   ]
  },
  {
   "cell_type": "code",
   "execution_count": 154,
   "metadata": {},
   "outputs": [],
   "source": [
    "def SIRS_step(A, state, beta, mu, gamma, T=0.5, debug=True):\n",
    "    \"\"\"\n",
    "    SIRS step for a single network. Updated A and state needs to be computed\n",
    "    before calling this function (take into account mobility + dynamic contacts).\n",
    "    Works with synchronous update (e.g. new infected cannot recover in this step).\n",
    "    \n",
    "    Parameters\n",
    "    ----------\n",
    "    - A : adjacency matrix\n",
    "    - state : \n",
    "        state[:,0] = 1 for the susceptible, 0 for the others\n",
    "        state[:,1] = 1 for the infected, 0 for the others\n",
    "        state[:,2] = 1 for the recovered, 0 for the others\n",
    "    - beta : prob of infection given contact\n",
    "    - mu : prob of recovery per step\n",
    "    - gamma : prob of S->R transition per step\n",
    "    - T : fraction of the day spent in the system\n",
    "    \n",
    "    Return\n",
    "    ------\n",
    "    state, recovered (updated)\n",
    "    \"\"\"\n",
    "    N = len(state)\n",
    "    new_state = np.zeros((N,3))\n",
    "    \n",
    "    dprint = print if debug else lambda *args, **kwargs : None\n",
    "        \n",
    "    ### S -> I ###\n",
    "    p_I = beta*np.matmul(A,state[:,1]).T # prob of getting the infection\n",
    "    p_I = np.array(p_I).reshape(N)\n",
    "    u = np.random.rand(N) \n",
    "    mask_S = (u < p_I*state[:,0]) # apply only to susceptible\n",
    "    new_state[mask_S,1] = 1\n",
    "    state[mask_S,0] = 0\n",
    "    \n",
    "    dprint(\"New I: \", new_state[:,1].sum())\n",
    "    \n",
    "    ### I -> R ###\n",
    "    u = np.random.rand(N) \n",
    "    mask_I = (u < mu*state[:,1]) # apply only to infected\n",
    "    new_state[mask_I,2] = 1\n",
    "    state[mask_I,1] = 0\n",
    "    \n",
    "    dprint(\"New R: \", new_state[:,2].sum())\n",
    "    \n",
    "    ### R -> S ###\n",
    "    u = np.random.rand(N) \n",
    "    mask_R = (u < gamma*state[:,2]) # apply only to recovered\n",
    "    new_state[mask_R,0] = 1\n",
    "    state[mask_R,2] = 0\n",
    "    \n",
    "    dprint(\"New S: \", new_state[:,0].sum())\n",
    "    \n",
    "    state = state + new_state\n",
    "    \n",
    "    dprint(\"Updated S: \", state[:,0].sum())\n",
    "    dprint(\"Updated I: \", state[:,1].sum())\n",
    "    dprint(\"Updated R: \", state[:,2].sum())\n",
    "    \n",
    "    return state"
   ]
  },
  {
   "cell_type": "markdown",
   "metadata": {},
   "source": [
    "Comments: the computation for the probability of getting infected works only at the beginning of the infection, then it overestimates the infection strength."
   ]
  },
  {
   "cell_type": "code",
   "execution_count": 186,
   "metadata": {},
   "outputs": [],
   "source": [
    "# TEST\n",
    "N = 1000\n",
    "I0 = 5\n",
    "\n",
    "G_test = nx.barabasi_albert_graph(N,4)\n",
    "A_test = nx.to_numpy_matrix(G_test)\n",
    "\n",
    "# prepare initial state\n",
    "susceptible = np.ones(N)\n",
    "seeds = np.random.choice(np.arange(N), size = I0)\n",
    "susceptible[seeds] = 0\n",
    "state = np.zeros((N,3))\n",
    "state[:,0] = susceptible\n",
    "state[seeds,1] = 1"
   ]
  },
  {
   "cell_type": "code",
   "execution_count": 187,
   "metadata": {
    "scrolled": true
   },
   "outputs": [
    {
     "name": "stdout",
     "output_type": "stream",
     "text": [
      "Total time elapsed: 0.51 s\n",
      "Time per iteration: 0.0025 s\n"
     ]
    }
   ],
   "source": [
    "import time \n",
    "start = time.time()\n",
    "n_iter = 200\n",
    "S = []\n",
    "I = []\n",
    "R = []\n",
    "t_vec = []\n",
    "for i in range(n_iter):\n",
    "    state = SIRS_step(A_test, state, beta, mu, gamma, T=1, debug=False)\n",
    "    S.append(state[:,0].sum())\n",
    "    I.append(state[:,1].sum())\n",
    "    R.append(state[:,2].sum())\n",
    "    t_vec.append(time.time()-start)\n",
    "tot_time = time.time()-start\n",
    "print(\"Total time elapsed: %.2f s\"%tot_time)\n",
    "print(\"Time per iteration: %.4f s\"%(tot_time/n_iter))\n",
    "S = np.array(S)\n",
    "I = np.array(I)\n",
    "R = np.array(R)\n",
    "t_vec = np.array(t_vec)"
   ]
  },
  {
   "cell_type": "code",
   "execution_count": 188,
   "metadata": {
    "scrolled": false
   },
   "outputs": [
    {
     "data": {
      "image/png": "[encoded data removed]",
      "text/plain": [
       "<Figure size 576x432 with 1 Axes>"
      ]
     },
     "metadata": {
      "needs_background": "light"
     },
     "output_type": "display_data"
    }
   ],
   "source": [
    "indexes = np.arange(n_iter)\n",
    "plt.figure(figsize=(8,6))\n",
    "plt.plot(indexes, S, label = 'S')\n",
    "plt.plot(indexes, I, label = 'I')\n",
    "plt.plot(indexes, R, label = 'R')\n",
    "plt.plot(indexes, S+I+R, label = 'tot')\n",
    "plt.xlabel('Number of iterations', fontsize = 16)\n",
    "plt.ylabel('Number of individuals', fontsize = 16)\n",
    "plt.legend(fontsize=13)\n",
    "plt.show()"
   ]
  },
  {
   "cell_type": "code",
   "execution_count": null,
   "metadata": {},
   "outputs": [],
   "source": []
  },
  {
   "cell_type": "code",
   "execution_count": null,
   "metadata": {},
   "outputs": [],
   "source": []
  }
 ],
 "metadata": {
  "kernelspec": {
   "display_name": "Python 3",
   "language": "python",
   "name": "python3"
  },
  "language_info": {
   "codemirror_mode": {
    "name": "ipython",
    "version": 3
   },
   "file_extension": ".py",
   "mimetype": "text/x-python",
   "name": "python",
   "nbconvert_exporter": "python",
   "pygments_lexer": "ipython3",
   "version": "3.7.4"
  }
 },
 "nbformat": 4,
 "nbformat_minor": 2
}
