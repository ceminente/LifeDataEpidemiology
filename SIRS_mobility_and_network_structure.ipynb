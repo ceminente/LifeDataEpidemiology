{
 "cells": [
  {
   "cell_type": "code",
   "execution_count": 1,
   "metadata": {},
   "outputs": [],
   "source": [
    "import numpy as np\n",
    "import matplotlib.pyplot as plt \n",
    "import networkx as nx"
   ]
  },
  {
   "cell_type": "markdown",
   "metadata": {},
   "source": [
    "Notation: \n",
    "* SF = scale free\n",
    "* ER = Erdosh Renyi"
   ]
  },
  {
   "cell_type": "code",
   "execution_count": 2,
   "metadata": {},
   "outputs": [],
   "source": [
    "### PARAMETERS ###\n",
    "N = 1000\n",
    "k0 = 2\n",
    "p_mob = 0.05\n",
    "eps = 0.1\n",
    "beta = 0.09\n",
    "mu = 0.05 # change this, it's the most unreasonable estimate\n",
    "gamma = 0.01"
   ]
  },
  {
   "cell_type": "code",
   "execution_count": 3,
   "metadata": {},
   "outputs": [
    {
     "name": "stdout",
     "output_type": "stream",
     "text": [
      "K0: \t 2\n",
      "Kmean:  3.992\n"
     ]
    }
   ],
   "source": [
    "G_sf = nx.barabasi_albert_graph(N,k0) #number of nodes, number of links added for each node\n",
    "mean_deg_sf = sum([k for i, k in G_sf.degree()])/len(G_sf.degree())\n",
    "print(\"K0: \\t\", k0)\n",
    "print(\"Kmean: \", mean_deg_sf)"
   ]
  },
  {
   "cell_type": "code",
   "execution_count": 4,
   "metadata": {},
   "outputs": [
    {
     "name": "stdout",
     "output_type": "stream",
     "text": [
      "Kmean:  4.048\n"
     ]
    }
   ],
   "source": [
    "p = k0/N*2 # prob of creating an edge\n",
    "G_er = nx.binomial_graph(N,p)\n",
    "mean_deg_er = sum([k for i, k in G_er.degree()])/len(G_er.degree())\n",
    "print(\"Kmean: \", mean_deg_er)"
   ]
  },
  {
   "cell_type": "markdown",
   "metadata": {},
   "source": [
    "Now we get the adjacency matrices"
   ]
  },
  {
   "cell_type": "code",
   "execution_count": 5,
   "metadata": {},
   "outputs": [],
   "source": [
    "A_sf = nx.to_numpy_matrix(G_sf)\n",
    "A_er = nx.to_numpy_matrix(G_er)"
   ]
  },
  {
   "cell_type": "code",
   "execution_count": 6,
   "metadata": {},
   "outputs": [],
   "source": [
    "def SIRS_step(A, state, beta, mu, gamma, T=0.5, debug=True):\n",
    "    \"\"\"\n",
    "    SIRS step for a single network. Updated A and state needs to be computed\n",
    "    before calling this function (take into account mobility + dynamic contacts).\n",
    "    Works with synchronous update (e.g. new infected cannot recover in this step).\n",
    "    \n",
    "    Parameters\n",
    "    ----------\n",
    "    - A : adjacency matrix\n",
    "    - state : \n",
    "        state[:,0] = 1 for the susceptible, 0 for the others\n",
    "        state[:,1] = 1 for the infected, 0 for the others\n",
    "        state[:,2] = 1 for the recovered, 0 for the others\n",
    "    - beta : prob of infection given contact\n",
    "    - mu : prob of recovery per step\n",
    "    - gamma : prob of S->R transition per step\n",
    "    - T : fraction of the day spent in the system\n",
    "    \n",
    "    Return\n",
    "    ------\n",
    "    state, recovered (updated)\n",
    "    \"\"\"\n",
    "    N = len(state)\n",
    "    new_state = np.zeros((N,3))\n",
    "    \n",
    "    dprint = print if debug else lambda *args, **kwargs : None\n",
    "        \n",
    "    ### S -> I ###\n",
    "    p_I = beta*np.matmul(A,state[:,1]).T # prob of getting the infection\n",
    "    p_I = np.array(p_I).reshape(N)\n",
    "    u = np.random.rand(N) \n",
    "    mask_S = (u < p_I*state[:,0]) # apply only to susceptible\n",
    "    new_state[mask_S,1] = 1\n",
    "    state[mask_S,0] = 0\n",
    "    \n",
    "    dprint(\"New I: \", new_state[:,1].sum())\n",
    "    \n",
    "    ### I -> R ###\n",
    "    u = np.random.rand(N) \n",
    "    mask_I = (u < mu*state[:,1]) # apply only to infected\n",
    "    new_state[mask_I,2] = 1\n",
    "    state[mask_I,1] = 0\n",
    "    \n",
    "    dprint(\"New R: \", new_state[:,2].sum())\n",
    "    \n",
    "    ### R -> S ###\n",
    "    u = np.random.rand(N) \n",
    "    mask_R = (u < gamma*state[:,2]) # apply only to recovered\n",
    "    new_state[mask_R,0] = 1\n",
    "    state[mask_R,2] = 0\n",
    "    \n",
    "    dprint(\"New S: \", new_state[:,0].sum())\n",
    "    \n",
    "    state = state + new_state\n",
    "    \n",
    "    dprint(\"Updated S: \", state[:,0].sum())\n",
    "    dprint(\"Updated I: \", state[:,1].sum())\n",
    "    dprint(\"Updated R: \", state[:,2].sum())\n",
    "    \n",
    "    return state"
   ]
  },
  {
   "cell_type": "markdown",
   "metadata": {},
   "source": [
    "Comments: the computation for the probability of getting infected works only at the beginning of the infection, then it overestimates the infection strength.\n",
    "\n",
    "One can try to approximate it better, but the difficult thing is to do it in an efficient way."
   ]
  },
  {
   "cell_type": "code",
   "execution_count": 7,
   "metadata": {},
   "outputs": [],
   "source": [
    "# TEST\n",
    "N = 1000\n",
    "I0 = 5 # initial number of infected\n",
    "\n",
    "G_test = nx.barabasi_albert_graph(N,4)\n",
    "A_test = nx.to_numpy_matrix(G_test)\n",
    "\n",
    "# prepare initial state\n",
    "susceptible = np.ones(N)\n",
    "seeds = np.random.choice(np.arange(N), size = I0)\n",
    "susceptible[seeds] = 0\n",
    "state = np.zeros((N,3))\n",
    "state[:,0] = susceptible\n",
    "state[seeds,1] = 1"
   ]
  },
  {
   "cell_type": "code",
   "execution_count": 8,
   "metadata": {
    "scrolled": true
   },
   "outputs": [
    {
     "name": "stdout",
     "output_type": "stream",
     "text": [
      "Total time elapsed: 0.35 s\n",
      "Time per iteration: 0.0017 s\n"
     ]
    }
   ],
   "source": [
    "import time \n",
    "start = time.time()\n",
    "n_iter = 200\n",
    "S = []\n",
    "I = []\n",
    "R = []\n",
    "t_vec = []\n",
    "for i in range(n_iter):\n",
    "    state = SIRS_step(A_test, state, beta, mu, gamma, T=1, debug=False)\n",
    "    S.append(state[:,0].sum())\n",
    "    I.append(state[:,1].sum())\n",
    "    R.append(state[:,2].sum())\n",
    "    t_vec.append(time.time()-start)\n",
    "tot_time = time.time()-start\n",
    "print(\"Total time elapsed: %.2f s\"%tot_time)\n",
    "print(\"Time per iteration: %.4f s\"%(tot_time/n_iter))\n",
    "S = np.array(S)\n",
    "I = np.array(I)\n",
    "R = np.array(R)\n",
    "t_vec = np.array(t_vec)"
   ]
  },
  {
   "cell_type": "code",
   "execution_count": 9,
   "metadata": {
    "scrolled": false
   },
   "outputs": [
    {
     "data": {
      "image/png": "[encoded data removed]",
      "text/plain": [
       "<Figure size 576x432 with 1 Axes>"
      ]
     },
     "metadata": {
      "needs_background": "light"
     },
     "output_type": "display_data"
    }
   ],
   "source": [
    "indexes = np.arange(n_iter)\n",
    "plt.figure(figsize=(8,6))\n",
    "plt.plot(indexes, S, label = 'S')\n",
    "plt.plot(indexes, I, label = 'I')\n",
    "plt.plot(indexes, R, label = 'R')\n",
    "plt.plot(indexes, S+I+R, label = 'tot')\n",
    "plt.xlabel('Number of iterations', fontsize = 16)\n",
    "plt.ylabel('Number of individuals', fontsize = 16)\n",
    "plt.legend(fontsize=13)\n",
    "plt.show()"
   ]
  },
  {
   "cell_type": "markdown",
   "metadata": {},
   "source": [
    "## Commuting over networks\n",
    "\n",
    "Simplifying assumptions:\n",
    "* $N_i = N_j$\n",
    "* $N_{ij} = N_{ji} $"
   ]
  },
  {
   "cell_type": "code",
   "execution_count": 10,
   "metadata": {},
   "outputs": [
    {
     "name": "stdout",
     "output_type": "stream",
     "text": [
      "Number of individuals travelling from each network:  50\n"
     ]
    }
   ],
   "source": [
    "Nij = int(p_mob*N)\n",
    "print(\"Number of individuals travelling from each network: \", Nij)\n",
    "N_tot = N + Nij # same for the two networks"
   ]
  },
  {
   "cell_type": "code",
   "execution_count": 11,
   "metadata": {},
   "outputs": [],
   "source": [
    "travellers_sf = np.random.choice(np.arange(N), size=Nij, replace=False)\n",
    "travellers_er = np.random.choice(np.arange(N), size=Nij, replace=False)\n",
    "\n",
    "# this travellers will be numbered starting from N when they are at work \n",
    "#(but we need to know what are their identities in the original system)\n",
    "new_ids_sf = {} # fixed for the entire simulation ! (no need for pperformance)\n",
    "for i, ID in enumerate(travellers_sf):\n",
    "    new_ids_sf[i+N] = ID\n",
    "new_ids_er = {} # fixed for the entire simulation ! (no need for pperformance)\n",
    "for i, ID in enumerate(travellers_er):\n",
    "    new_ids_er[i+N] = ID"
   ]
  },
  {
   "cell_type": "code",
   "execution_count": 19,
   "metadata": {},
   "outputs": [],
   "source": [
    "mob_mask_sf = np.isin(np.arange(N), travellers_sf)\n",
    "A_sf_stay = np.copy(A_sf)\n",
    "A_sf_stay[mob_mask_sf,:] = 0\n",
    "A_sf_stay[:,mob_mask_sf] = 0\n",
    "G_sf_stay = nx.from_numpy_matrix(A_sf_stay)\n",
    "\n",
    "mob_mask_er = np.isin(np.arange(N), travellers_er)\n",
    "A_er_stay = np.copy(A_er)\n",
    "A_er_stay[mob_mask_er,:] = 0\n",
    "A_er_stay[:,mob_mask_er] = 0\n",
    "G_er_stay = nx.from_numpy_matrix(A_er_stay)"
   ]
  },
  {
   "cell_type": "markdown",
   "metadata": {},
   "source": [
    "Now we need to get the degrees of the travellers, because we assume that they will form the same number of connections also in the other network (approximately)."
   ]
  },
  {
   "cell_type": "code",
   "execution_count": 14,
   "metadata": {},
   "outputs": [],
   "source": [
    "deg_sf = [k for n,k in G_sf.degree(travellers_sf)]\n",
    "deg_er = [k for n,k in G_sf.degree(travellers_er)]"
   ]
  },
  {
   "cell_type": "code",
   "execution_count": 15,
   "metadata": {},
   "outputs": [],
   "source": [
    "def attach_travellers(G_sf_stay, new_ids_er, deg_er, N_tot):\n",
    "    \"\"\"Attach new travellers using preferential attachment and keeping their original degrees.\"\"\"\n",
    "    edge_list_sf = list(G_sf_stay.edges)\n",
    "    for i,ID in enumerate(new_ids_er.keys()):\n",
    "        k = deg_er[i]\n",
    "        indexes = np.random.choice(len(edge_list_sf), size=k, replace=False)\n",
    "        #targets = []\n",
    "        for j in indexes:\n",
    "            trg = np.random.choice(list(edge_list_sf[j]))\n",
    "            #if trg in targets:\n",
    "            edge_list_sf.append((ID,trg))\n",
    "            \n",
    "    G_sf_day = nx.Graph(edge_list_sf)\n",
    "    # add also the nodes without edges to get the known dimension N_tot\n",
    "    G_sf_day.add_nodes_from(np.arange(N_tot))\n",
    "    A_sf_day = nx.to_numpy_matrix(G_sf_day, nodelist=np.arange(N_tot))\n",
    "    \n",
    "    return G_sf_day, A_sf_day"
   ]
  },
  {
   "cell_type": "markdown",
   "metadata": {},
   "source": [
    "Note: in this function it can happen that the same node is chosen more than once from the same travellers. This implies that sometimes there are less connections than expected and this happens very frequently with the nodes with higher degree. Also it can happen that they increase their number of connections because some other traveller chooses to connect with them! \n",
    "\n",
    "(If you want you can try to fix it!)\n",
    "\n",
    "Also there is to implement the random attachment instead of the preferential one, where you pick directly a node at random between those that stay in the system (this needs to be checked, so you will need also the travellers from the system to check the departures)."
   ]
  },
  {
   "cell_type": "code",
   "execution_count": 16,
   "metadata": {
    "scrolled": true
   },
   "outputs": [],
   "source": [
    "# call the function\n",
    "G_sf_day, _ = attach_travellers(G_sf_stay, new_ids_er, deg_er, N_tot)"
   ]
  },
  {
   "cell_type": "code",
   "execution_count": 17,
   "metadata": {
    "scrolled": true
   },
   "outputs": [
    {
     "name": "stdout",
     "output_type": "stream",
     "text": [
      "Original vs real degree: 2\t2\n",
      "Original vs real degree: 4\t4\n",
      "Original vs real degree: 4\t4\n",
      "Original vs real degree: 2\t2\n",
      "Original vs real degree: 2\t2\n",
      "Original vs real degree: 2\t2\n",
      "Original vs real degree: 2\t2\n",
      "Original vs real degree: 2\t2\n",
      "Original vs real degree: 2\t2\n",
      "Original vs real degree: 2\t2\n",
      "Original vs real degree: 6\t6\n",
      "Original vs real degree: 13\t14\n",
      "Original vs real degree: 2\t2\n",
      "Original vs real degree: 3\t3\n",
      "Original vs real degree: 5\t5\n",
      "Original vs real degree: 2\t2\n",
      "Original vs real degree: 2\t3\n",
      "Original vs real degree: 2\t2\n",
      "Original vs real degree: 5\t5\n",
      "Original vs real degree: 2\t2\n",
      "Original vs real degree: 3\t3\n",
      "Original vs real degree: 2\t2\n",
      "Original vs real degree: 3\t3\n",
      "Original vs real degree: 2\t2\n",
      "Original vs real degree: 2\t2\n",
      "Original vs real degree: 2\t2\n",
      "Original vs real degree: 2\t2\n",
      "Original vs real degree: 2\t2\n",
      "Original vs real degree: 43\t41\n",
      "Original vs real degree: 5\t5\n",
      "Original vs real degree: 3\t3\n",
      "Original vs real degree: 2\t2\n",
      "Original vs real degree: 2\t2\n",
      "Original vs real degree: 3\t3\n",
      "Original vs real degree: 3\t3\n",
      "Original vs real degree: 2\t2\n",
      "Original vs real degree: 4\t4\n",
      "Original vs real degree: 22\t22\n",
      "Original vs real degree: 2\t2\n",
      "Original vs real degree: 2\t2\n",
      "Original vs real degree: 2\t2\n",
      "Original vs real degree: 6\t6\n",
      "Original vs real degree: 2\t2\n",
      "Original vs real degree: 2\t2\n",
      "Original vs real degree: 3\t3\n",
      "Original vs real degree: 10\t10\n",
      "Original vs real degree: 5\t5\n",
      "Original vs real degree: 2\t2\n",
      "Original vs real degree: 2\t2\n",
      "Original vs real degree: 4\t4\n"
     ]
    }
   ],
   "source": [
    "### just for debugging purposes ###\n",
    "\n",
    "real_deg = G_sf_day.degree(new_ids_er.keys())\n",
    "\n",
    "for i,k in enumerate(deg_er):\n",
    "    print(\"Original vs real degree: %d\\t%d\"%(k,real_deg[i+N])) "
   ]
  },
  {
   "cell_type": "code",
   "execution_count": 18,
   "metadata": {},
   "outputs": [
    {
     "data": {
      "text/plain": [
       "2.0"
      ]
     },
     "execution_count": 18,
     "metadata": {},
     "output_type": "execute_result"
    }
   ],
   "source": [
    "A_sf_day = nx.to_numpy_matrix(G_sf_day, nodelist=np.arange(N_tot))\n",
    "\n",
    "# debug \n",
    "A_sf_day[1000,:].sum() # real degree of the first traveller (see cell above)"
   ]
  }
 ],
 "metadata": {
  "kernelspec": {
   "display_name": "Python 3",
   "language": "python",
   "name": "python3"
  },
  "language_info": {
   "codemirror_mode": {
    "name": "ipython",
    "version": 3
   },
   "file_extension": ".py",
   "mimetype": "text/x-python",
   "name": "python",
   "nbconvert_exporter": "python",
   "pygments_lexer": "ipython3",
   "version": "3.7.4"
  }
 },
 "nbformat": 4,
 "nbformat_minor": 2
}
