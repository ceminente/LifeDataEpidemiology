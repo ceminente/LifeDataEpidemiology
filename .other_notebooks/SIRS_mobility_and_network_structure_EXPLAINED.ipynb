{
 "cells": [
  {
   "cell_type": "code",
   "execution_count": 1,
   "metadata": {},
   "outputs": [],
   "source": [
    "import numpy as np\n",
    "import matplotlib.pyplot as plt \n",
    "import networkx as nx"
   ]
  },
  {
   "cell_type": "markdown",
   "metadata": {},
   "source": [
    "Notation: \n",
    "* SF = scale free\n",
    "* ER = Erdosh Renyi"
   ]
  },
  {
   "cell_type": "code",
   "execution_count": 2,
   "metadata": {},
   "outputs": [],
   "source": [
    "### PARAMETERS ###\n",
    "N = 1000\n",
    "k0 = 2\n",
    "p_mob = 0.05\n",
    "eps = 0.1 # not implemented\n",
    "beta = 0.09\n",
    "mu = 0.05 \n",
    "gamma = 0.01"
   ]
  },
  {
   "cell_type": "code",
   "execution_count": 3,
   "metadata": {},
   "outputs": [
    {
     "name": "stdout",
     "output_type": "stream",
     "text": [
      "K0: \t 2\n",
      "Kmean:  3.992\n"
     ]
    }
   ],
   "source": [
    "# barabasi-albert is a preferential attachment network (with power law degree)\n",
    "G_sf = nx.barabasi_albert_graph(N,k0) #number of nodes, number of links added for each node\n",
    "mean_deg_sf = sum([k for i, k in G_sf.degree()])/len(G_sf.degree())\n",
    "print(\"K0: \\t\", k0)\n",
    "print(\"Kmean: \", mean_deg_sf)"
   ]
  },
  {
   "cell_type": "code",
   "execution_count": 4,
   "metadata": {},
   "outputs": [
    {
     "name": "stdout",
     "output_type": "stream",
     "text": [
      "Kmean:  3.924\n"
     ]
    }
   ],
   "source": [
    "p = k0/N*2 # prob of creating an edge\n",
    "G_er = nx.binomial_graph(N,p) # Erdosh-Renyi graph\n",
    "mean_deg_er = sum([k for i, k in G_er.degree()])/len(G_er.degree())\n",
    "print(\"Kmean: \", mean_deg_er)"
   ]
  },
  {
   "cell_type": "markdown",
   "metadata": {},
   "source": [
    "Now we get the adjacency matrices"
   ]
  },
  {
   "cell_type": "code",
   "execution_count": 5,
   "metadata": {},
   "outputs": [],
   "source": [
    "A_sf = nx.to_numpy_matrix(G_sf)\n",
    "A_er = nx.to_numpy_matrix(G_er)"
   ]
  },
  {
   "cell_type": "code",
   "execution_count": 6,
   "metadata": {},
   "outputs": [],
   "source": [
    "def SIRS_step(A, state, beta, mu, gamma, T=0.5, debug=False):\n",
    "    \"\"\"\n",
    "    SIRS step for a single network. Updated A and state needs to be computed\n",
    "    before calling this function (take into account mobility + dynamic contacts).\n",
    "    Works with synchronous update (e.g. new infected cannot recover in this step).\n",
    "    \n",
    "    Parameters\n",
    "    ----------\n",
    "    - A : adjacency matrix\n",
    "    - state : \n",
    "        state[:,0] = 1 for the susceptible, 0 for the others\n",
    "        state[:,1] = 1 for the infected, 0 for the others\n",
    "        state[:,2] = 1 for the recovered, 0 for the others\n",
    "    - beta : prob of infection given contact\n",
    "    - mu : prob of recovery per step\n",
    "    - gamma : prob of S->R transition per step\n",
    "    - T : fraction of the day spent in the system\n",
    "    \n",
    "    Return\n",
    "    ------\n",
    "    state, recovered (updated)\n",
    "    \"\"\"\n",
    "    N = len(state)\n",
    "    new_state = np.zeros((N,3))\n",
    "    \n",
    "    # print function that works only if debug=True\n",
    "    dprint = print if debug else lambda *args, **kwargs : None\n",
    "        \n",
    "    ### S -> I ###\n",
    "    p_I = beta*np.matmul(A,state[:,1]).T # prob of getting the infection\n",
    "    p_I = np.array(p_I).reshape(N) # issues with matmul that outputs a matrix instead of an array\n",
    "    u = np.random.rand(N) \n",
    "    mask_S = (u < p_I*state[:,0]) # apply only to susceptible\n",
    "    new_state[mask_S,1] = 1 # register new infected -> they cannot recover in this step\n",
    "    state[mask_S,0] = 0 # remove infected susceptible\n",
    "    \n",
    "    dprint(\"New I: \", new_state[:,1].sum())\n",
    "    \n",
    "    ### I -> R ###\n",
    "    u = np.random.rand(N) \n",
    "    mask_I = (u < mu*state[:,1]) # apply only to infected\n",
    "    new_state[mask_I,2] = 1 # register new recovered -> they cannot become susceptible in this step\n",
    "    state[mask_I,1] = 0 # remove recovered infected\n",
    "    \n",
    "    dprint(\"New R: \", new_state[:,2].sum())\n",
    "    \n",
    "    ### R -> S ###\n",
    "    u = np.random.rand(N) \n",
    "    mask_R = (u < gamma*state[:,2]) # apply only to recovered\n",
    "    new_state[mask_R,0] = 1 # register new susceptible\n",
    "    state[mask_R,2] = 0 # remove old recovered\n",
    "    \n",
    "    dprint(\"New S: \", new_state[:,0].sum())\n",
    "    \n",
    "    state = state + new_state # update the old state\n",
    "    \n",
    "    dprint(\"Updated S: \", state[:,0].sum())\n",
    "    dprint(\"Updated I: \", state[:,1].sum())\n",
    "    dprint(\"Updated R: \", state[:,2].sum())\n",
    "    \n",
    "    return state"
   ]
  },
  {
   "cell_type": "markdown",
   "metadata": {},
   "source": [
    "Comments: the computation for the probability of getting infected works only at the beginning of the infection, then it overestimates the infection strength.\n",
    "\n",
    "One can try to approximate it better, but the difficult thing is to do it in an efficient way."
   ]
  },
  {
   "cell_type": "code",
   "execution_count": 7,
   "metadata": {},
   "outputs": [],
   "source": [
    "# TEST\n",
    "N = 1000\n",
    "I0 = 5 # initial number of infected\n",
    "\n",
    "G_test = nx.barabasi_albert_graph(N,4)\n",
    "A_test = nx.to_numpy_matrix(G_test)\n",
    "\n",
    "# prepare initial state\n",
    "def prepare_init_state(N, I0):\n",
    "    \"\"\"\n",
    "    Prepare a system of N nodes and I0 infected.\n",
    "    \n",
    "    Parameters\n",
    "    ----------\n",
    "    N : int, number of nodes\n",
    "    I0 : int, number of initial infected nodes\n",
    "    \n",
    "    Returns\n",
    "    -------\n",
    "    state :  numpy array of shape (N,3) \n",
    "        state[:,0] = 1 for the susceptible, 0 for the others\n",
    "        state[:,1] = 1 for the infected, 0 for the others\n",
    "        state[:,2] = 1 for the recovered, 0 for the others\n",
    "    \"\"\"\n",
    "    susceptible = np.ones(N)\n",
    "    seeds = np.random.choice(np.arange(N), size = I0)\n",
    "    susceptible[seeds] = 0\n",
    "    state = np.zeros((N,3))\n",
    "    state[:,0] = susceptible\n",
    "    state[seeds,1] = 1\n",
    "    return state\n",
    "\n",
    "state = prepare_init_state(N,I0)"
   ]
  },
  {
   "cell_type": "code",
   "execution_count": 8,
   "metadata": {
    "scrolled": true
   },
   "outputs": [
    {
     "name": "stdout",
     "output_type": "stream",
     "text": [
      "Total time elapsed: 0.37 s\n",
      "Time per iteration: 0.0018 s\n"
     ]
    }
   ],
   "source": [
    "import time \n",
    "start = time.time()\n",
    "n_iter = 200\n",
    "S = []\n",
    "I = []\n",
    "R = []\n",
    "t_vec = []\n",
    "for i in range(n_iter):\n",
    "    state = SIRS_step(A_test, state, beta, mu, gamma, T=1, debug=False)\n",
    "    S.append(state[:,0].sum())\n",
    "    I.append(state[:,1].sum())\n",
    "    R.append(state[:,2].sum())\n",
    "    t_vec.append(time.time()-start)\n",
    "tot_time = time.time()-start\n",
    "print(\"Total time elapsed: %.2f s\"%tot_time)\n",
    "print(\"Time per iteration: %.4f s\"%(tot_time/n_iter))\n",
    "S = np.array(S)\n",
    "I = np.array(I)\n",
    "R = np.array(R)\n",
    "t_vec = np.array(t_vec)"
   ]
  },
  {
   "cell_type": "code",
   "execution_count": 9,
   "metadata": {
    "scrolled": false
   },
   "outputs": [
    {
     "data": {
      "image/png": "[encoded data removed]",
      "text/plain": [
       "<Figure size 576x432 with 1 Axes>"
      ]
     },
     "metadata": {
      "needs_background": "light"
     },
     "output_type": "display_data"
    }
   ],
   "source": [
    "indexes = np.arange(n_iter)\n",
    "plt.figure(figsize=(8,6))\n",
    "plt.plot(indexes, S, label = 'S')\n",
    "plt.plot(indexes, I, label = 'I')\n",
    "plt.plot(indexes, R, label = 'R')\n",
    "plt.plot(indexes, S+I+R, label = 'tot')\n",
    "plt.xlabel('Number of iterations', fontsize = 16)\n",
    "plt.ylabel('Number of individuals', fontsize = 16)\n",
    "plt.legend(fontsize=13)\n",
    "plt.show()"
   ]
  },
  {
   "cell_type": "markdown",
   "metadata": {},
   "source": [
    "## Commuting over networks\n",
    "\n",
    "Simplifying assumptions:\n",
    "* $N_i = N_j$\n",
    "* $N_{ij} = N_{ji} $"
   ]
  },
  {
   "cell_type": "code",
   "execution_count": 10,
   "metadata": {},
   "outputs": [
    {
     "name": "stdout",
     "output_type": "stream",
     "text": [
      "Number of individuals travelling from each network:  50\n"
     ]
    }
   ],
   "source": [
    "Nij = int(p_mob*N)\n",
    "print(\"Number of individuals travelling from each network: \", Nij)\n",
    "N_tot = N + Nij # same for the two networks"
   ]
  },
  {
   "cell_type": "code",
   "execution_count": 11,
   "metadata": {},
   "outputs": [],
   "source": [
    "travellers_sf = np.random.choice(np.arange(N), size=Nij, replace=False)\n",
    "travellers_er = np.random.choice(np.arange(N), size=Nij, replace=False)\n",
    "\n",
    "# this travellers will be numbered starting from N when they are at work \n",
    "#(but we need to know what are their identities in the original system)\n",
    "new_ids_sf = {} # fixed for the entire simulation ! (no need for performance)\n",
    "for i, ID in enumerate(travellers_sf):\n",
    "    new_ids_sf[i+N] = ID\n",
    "new_ids_er = {} # fixed for the entire simulation ! (no need for performance)\n",
    "for i, ID in enumerate(travellers_er):\n",
    "    new_ids_er[i+N] = ID"
   ]
  },
  {
   "cell_type": "markdown",
   "metadata": {},
   "source": [
    "Now we focus on obtaining the network without the travellers"
   ]
  },
  {
   "cell_type": "code",
   "execution_count": 12,
   "metadata": {},
   "outputs": [],
   "source": [
    "mob_mask_sf = np.isin(np.arange(N), travellers_sf)\n",
    "A_sf_stay = np.copy(A_sf)\n",
    "A_sf_stay[mob_mask_sf,:] = 0\n",
    "A_sf_stay[:,mob_mask_sf] = 0\n",
    "G_sf_stay = nx.from_numpy_matrix(A_sf_stay)\n",
    "\n",
    "mob_mask_er = np.isin(np.arange(N), travellers_er)\n",
    "A_er_stay = np.copy(A_er)\n",
    "A_er_stay[mob_mask_er,:] = 0\n",
    "A_er_stay[:,mob_mask_er] = 0\n",
    "G_er_stay = nx.from_numpy_matrix(A_er_stay)"
   ]
  },
  {
   "cell_type": "markdown",
   "metadata": {},
   "source": [
    "Now we need to get the degrees of the travellers, because we assume that they will form the same number of connections also in the other network (approximately)."
   ]
  },
  {
   "cell_type": "code",
   "execution_count": 13,
   "metadata": {},
   "outputs": [],
   "source": [
    "deg_sf = [k for n,k in G_sf.degree(travellers_sf)]\n",
    "deg_er = [k for n,k in G_sf.degree(travellers_er)]"
   ]
  },
  {
   "cell_type": "code",
   "execution_count": 14,
   "metadata": {},
   "outputs": [],
   "source": [
    "def attach_travellers(G_sf_stay, new_ids_er, deg_er, N_tot):\n",
    "    \"\"\"\n",
    "    Attach new travellers using preferential attachment and keeping their original degrees.\n",
    "    \n",
    "    Parameters\n",
    "    ----------\n",
    "    G_sf_stay : networkx Graph instance, graph of the nodes that do not travel\n",
    "    new_ids_er :  dict, contains the pairs {'new_id_er':old_id}\n",
    "    deg_er :  numpy array of int, contains the degrees of all the travelling nodes from the ER network\n",
    "    N_tot : int, number of original nodes + travelling nodes\n",
    "    \n",
    "    Returns\n",
    "    -------\n",
    "    G_sf_day :  networkx Graph instance, graph of the nodes that stay in the SF system \n",
    "                + those that come from the ER network\n",
    "    A_sf_day : numpy matrix, adjacency matrix of G_sf_day \n",
    "    \"\"\"\n",
    "    edge_list_sf = list(G_sf_stay.edges)\n",
    "    for i,ID in enumerate(new_ids_er.keys()):\n",
    "        k = deg_er[i]\n",
    "        indexes = np.random.choice(len(edge_list_sf), size=k, replace=False)\n",
    "        #targets = []\n",
    "        for j in indexes:\n",
    "            trg = np.random.choice(list(edge_list_sf[j]))\n",
    "            #if trg in targets:\n",
    "            edge_list_sf.append((ID,trg))\n",
    "            \n",
    "    G_sf_day = nx.Graph(edge_list_sf)\n",
    "    # add also the nodes without edges to get the known dimension N_tot\n",
    "    G_sf_day.add_nodes_from(np.arange(N_tot))\n",
    "    A_sf_day = nx.to_numpy_matrix(G_sf_day, nodelist=np.arange(N_tot))\n",
    "    \n",
    "    return G_sf_day, A_sf_day"
   ]
  },
  {
   "cell_type": "markdown",
   "metadata": {},
   "source": [
    "Note: in this function it can happen that the same node is chosen more than once from the same travellers. This implies that sometimes there are less connections than expected and this happens very frequently with the nodes with higher degree. Also it can happen that they increase their number of connections because some other traveller chooses to connect with them! \n",
    "\n",
    "Also there is to implement the random attachment instead of the preferential one, where you pick directly a node at random between those that stay in the system (this needs to be checked, so you will need also the travellers from the system to check the departures)."
   ]
  },
  {
   "cell_type": "code",
   "execution_count": 15,
   "metadata": {
    "scrolled": true
   },
   "outputs": [],
   "source": [
    "# call the function\n",
    "G_sf_day, _ = attach_travellers(G_sf_stay, new_ids_er, deg_er, N_tot)"
   ]
  },
  {
   "cell_type": "code",
   "execution_count": 16,
   "metadata": {
    "scrolled": true
   },
   "outputs": [
    {
     "name": "stdout",
     "output_type": "stream",
     "text": [
      "Original vs real degree: 5\t4\n",
      "Original vs real degree: 2\t2\n",
      "Original vs real degree: 2\t2\n",
      "Original vs real degree: 3\t3\n",
      "Original vs real degree: 2\t2\n",
      "Original vs real degree: 2\t2\n",
      "Original vs real degree: 2\t2\n",
      "Original vs real degree: 6\t6\n",
      "Original vs real degree: 12\t12\n",
      "Original vs real degree: 4\t4\n",
      "Original vs real degree: 2\t2\n",
      "Original vs real degree: 2\t2\n",
      "Original vs real degree: 3\t4\n",
      "Original vs real degree: 3\t3\n",
      "Original vs real degree: 2\t2\n",
      "Original vs real degree: 2\t2\n",
      "Original vs real degree: 2\t2\n",
      "Original vs real degree: 5\t5\n",
      "Original vs real degree: 13\t13\n",
      "Original vs real degree: 7\t7\n",
      "Original vs real degree: 2\t2\n",
      "Original vs real degree: 3\t3\n",
      "Original vs real degree: 4\t5\n",
      "Original vs real degree: 2\t2\n",
      "Original vs real degree: 4\t4\n",
      "Original vs real degree: 2\t2\n",
      "Original vs real degree: 2\t2\n",
      "Original vs real degree: 4\t4\n",
      "Original vs real degree: 2\t2\n",
      "Original vs real degree: 2\t2\n",
      "Original vs real degree: 2\t2\n",
      "Original vs real degree: 2\t2\n",
      "Original vs real degree: 2\t2\n",
      "Original vs real degree: 2\t2\n",
      "Original vs real degree: 4\t5\n",
      "Original vs real degree: 7\t8\n",
      "Original vs real degree: 2\t2\n",
      "Original vs real degree: 7\t7\n",
      "Original vs real degree: 2\t2\n",
      "Original vs real degree: 7\t7\n",
      "Original vs real degree: 2\t2\n",
      "Original vs real degree: 11\t11\n",
      "Original vs real degree: 5\t4\n",
      "Original vs real degree: 2\t2\n",
      "Original vs real degree: 2\t3\n",
      "Original vs real degree: 3\t3\n",
      "Original vs real degree: 4\t4\n",
      "Original vs real degree: 10\t9\n",
      "Original vs real degree: 15\t14\n",
      "Original vs real degree: 2\t2\n"
     ]
    }
   ],
   "source": [
    "### just for debugging purposes ###\n",
    "\n",
    "real_deg = G_sf_day.degree(new_ids_er.keys())\n",
    "\n",
    "for i,k in enumerate(deg_er):\n",
    "    print(\"Original vs real degree: %d\\t%d\"%(k,real_deg[i+N])) "
   ]
  },
  {
   "cell_type": "code",
   "execution_count": 17,
   "metadata": {},
   "outputs": [
    {
     "data": {
      "text/plain": [
       "4.0"
      ]
     },
     "execution_count": 17,
     "metadata": {},
     "output_type": "execute_result"
    }
   ],
   "source": [
    "# how to get the adjacency matrix from the graph\n",
    "A_sf_day = nx.to_numpy_matrix(G_sf_day, nodelist=np.arange(N_tot))\n",
    "\n",
    "# debug \n",
    "A_sf_day[1000,:].sum() # real degree of the first traveller (see cell above)"
   ]
  },
  {
   "cell_type": "markdown",
   "metadata": {},
   "source": [
    "Extracting the state of the travellers "
   ]
  },
  {
   "cell_type": "code",
   "execution_count": 18,
   "metadata": {},
   "outputs": [],
   "source": [
    "# prepare states just for trying things\n",
    "state_sf = prepare_init_state(N,I0)\n",
    "state_er = prepare_init_state(N,I0)"
   ]
  },
  {
   "cell_type": "code",
   "execution_count": 19,
   "metadata": {},
   "outputs": [
    {
     "name": "stdout",
     "output_type": "stream",
     "text": [
      "state_sf_trav.shape:  (50, 3)\n",
      "state_sf_day.shape:  (1050, 3)\n",
      "mob_mask_sf.shape:  (1050,)\n"
     ]
    }
   ],
   "source": [
    "state_sf_trav = state_sf[travellers_sf]\n",
    "print(\"state_sf_trav.shape: \", state_sf_trav.shape)\n",
    "state_er_trav = state_er[travellers_er]\n",
    "\n",
    "# then concatenate them during the \"day\"\n",
    "state_sf_day = np.concatenate((state_sf, state_er_trav))\n",
    "print(\"state_sf_day.shape: \", state_sf_day.shape)\n",
    "state_er_day = np.concatenate((state_er, state_sf_trav))\n",
    "\n",
    "# we also need masks to cancel the contribution of the people that are not in the system during the day\n",
    "# we already done that before, but for range N instead of N_tot\n",
    "\n",
    "mob_mask_sf = (~np.isin(np.arange(N_tot), travellers_sf)).astype(int)\n",
    "print(\"mob_mask_sf.shape: \", mob_mask_sf.shape)\n",
    "mob_mask_er = (~np.isin(np.arange(N_tot), travellers_er)).astype(int)"
   ]
  },
  {
   "cell_type": "markdown",
   "metadata": {},
   "source": [
    "Now we need to modify the SIRS dynamics masking out the absent people. This should work for the day, whereas for the night we simply use the original system."
   ]
  },
  {
   "cell_type": "code",
   "execution_count": 20,
   "metadata": {},
   "outputs": [],
   "source": [
    "state = state_sf_day\n",
    "masked_susceptible = state[:,1]*mob_mask_sf"
   ]
  },
  {
   "cell_type": "code",
   "execution_count": 21,
   "metadata": {},
   "outputs": [
    {
     "name": "stdout",
     "output_type": "stream",
     "text": [
      "Indices of the travellers: \n",
      " [993 897  63 132 753 216  19 660 100 872 375 974 488 329  32 459 479 877\n",
      " 636 779 849 864 170 922 551 917  92  30 599  59 865 516  91 668 530 150\n",
      " 691 842  88 331  69 552  66 423 305  84 102 420 537  23]\n",
      "Indices of the infected: \n",
      " (array([ 207,  242,  304,  470,  492, 1040]),)\n",
      "Infected present in the system: \n",
      " [1. 1. 1. 1. 1. 1.]\n"
     ]
    }
   ],
   "source": [
    "print(\"Indices of the travellers: \\n\", travellers_sf)\n",
    "print(\"Indices of the infected: \\n\", np.where(state[:,1] == 1))\n",
    "# 0 means that the infected is not present in the system\n",
    "print(\"Infected present in the system: \\n\", masked_susceptible[np.where(state[:,1] == 1)]) "
   ]
  },
  {
   "cell_type": "markdown",
   "metadata": {},
   "source": [
    "The idea is that the only passage where we need to mask the absent infected is where we compute the interaction term between susceptible and infected. For the I->R and R->S transitions we can consider the travellers virtually present for the sake of simplicity and just overwrite their state with the correct one obtained from the other system (because they are present as travellers there in the meantime)."
   ]
  },
  {
   "cell_type": "code",
   "execution_count": 22,
   "metadata": {},
   "outputs": [],
   "source": [
    "def SIRS_masked_step(A, state, mask, beta, mu, gamma, T=0.5, debug=False):\n",
    "    \"\"\"\n",
    "    SIRS step for a single network. Updated A and state needs to be computed\n",
    "    before calling this function (take into account mobility + dynamic contacts).\n",
    "    Works with synchronous update (e.g. new infected cannot recover in this step).\n",
    "    \n",
    "    Parameters\n",
    "    ----------\n",
    "    - A : adjacency matrix\n",
    "    - state : \n",
    "        state[:,0] = 1 for the susceptible, 0 for the others\n",
    "        state[:,1] = 1 for the infected, 0 for the others\n",
    "        state[:,2] = 1 for the recovered, 0 for the others\n",
    "    - mask : True at index i if that node is present in the system at current step\n",
    "    - beta : prob of infection given contact\n",
    "    - mu : prob of recovery per step\n",
    "    - gamma : prob of S->R transition per step\n",
    "    - T : fraction of the day spent in the system\n",
    "    \n",
    "    Return\n",
    "    ------\n",
    "    state, recovered (updated)\n",
    "    \"\"\"\n",
    "    N = len(state)\n",
    "    new_state = np.zeros((N,3))\n",
    "    \n",
    "    dprint = print if debug else lambda *args, **kwargs : None\n",
    "        \n",
    "    ### S -> I ###\n",
    "    p_I = beta*np.matmul(A,state[:,1]*mask).T # prob of getting the infection\n",
    "    p_I = np.array(p_I).reshape(N)\n",
    "    u = np.random.rand(N) \n",
    "    mask_S = (u < p_I*state[:,0]) # apply only to susceptible\n",
    "    new_state[mask_S,1] = 1\n",
    "    state[mask_S,0] = 0\n",
    "    \n",
    "    dprint(\"New I: \", new_state[:,1].sum())\n",
    "    \n",
    "    ### I -> R ###\n",
    "    u = np.random.rand(N) \n",
    "    mask_I = (u < mu*state[:,1]) # apply only to infected\n",
    "    new_state[mask_I,2] = 1\n",
    "    state[mask_I,1] = 0\n",
    "    \n",
    "    dprint(\"New R: \", new_state[:,2].sum())\n",
    "    \n",
    "    ### R -> S ###\n",
    "    u = np.random.rand(N) \n",
    "    mask_R = (u < gamma*state[:,2]) # apply only to recovered\n",
    "    new_state[mask_R,0] = 1\n",
    "    state[mask_R,2] = 0\n",
    "    \n",
    "    dprint(\"New S: \", new_state[:,0].sum())\n",
    "    \n",
    "    state = state + new_state\n",
    "    \n",
    "    dprint(\"Updated S: \", state[:,0].sum())\n",
    "    dprint(\"Updated I: \", state[:,1].sum())\n",
    "    dprint(\"Updated R: \", state[:,2].sum())\n",
    "    \n",
    "    return state"
   ]
  },
  {
   "cell_type": "code",
   "execution_count": 23,
   "metadata": {},
   "outputs": [],
   "source": [
    "def two_sys_full_SIRS_step(state_sf, state_er, travellers_sf, travellers_er, new_ids_sf, new_ids_er, \n",
    "                           deg_sf, deg_er, A_sf, A_er, G_sf_stay, G_er_stay, beta, mu, gamma):\n",
    "    \"\"\" \n",
    "    Simulate a single step of a SIRS dynamics over 2 coupled network with mobility, \n",
    "    taking into account the undelying structure of the networks. \n",
    "    \n",
    "    Parameters\n",
    "    ----------\n",
    "    state_sf: numpy array of shape (N,3) - state of the scale free network\n",
    "        state_sf[:,0] = 1 for the susceptible, 0 for the others\n",
    "        state_sf[:,1] = 1 for the infected, 0 for the others\n",
    "        state_sf[:,2] = 1 for the recovered, 0 for the others\n",
    "    state_er: numpy array of shape (N,3) - state of the Erdosh-Renyi network\n",
    "    **variables_net_sf (see \"prepare_two_sys\" function description)\n",
    "    **variables_net_er (see \"prepare_two_sys\" function description)\n",
    "    **infection_params (beta, mu, gamma)\n",
    "    \n",
    "    Returns\n",
    "    -------\n",
    "    state_sf, state_er (updated)\n",
    "    \"\"\"\n",
    "    N = len(state_sf)\n",
    "    Nij = len(travellers_sf)\n",
    "    N_tot = N + Nij\n",
    "    \n",
    "    ### day ###\n",
    "    \n",
    "    # compute day networks\n",
    "    _, A_sf_day = attach_travellers(G_sf_stay, new_ids_er, deg_er, N_tot)\n",
    "    _, A_er_day = attach_travellers(G_er_stay, new_ids_sf, deg_sf, N_tot)\n",
    "    \n",
    "    # mobility masks (True if present, False if travelling)\n",
    "    mob_mask_sf = (~np.isin(np.arange(N_tot), travellers_sf)).astype(int)\n",
    "    mob_mask_er = (~np.isin(np.arange(N_tot), travellers_er)).astype(int)\n",
    "    \n",
    "    # states of the travellers\n",
    "    state_sf_trav = state_sf[travellers_sf]\n",
    "    state_er_trav = state_er[travellers_er]\n",
    "\n",
    "    # stay + travellers of the other system state \n",
    "    # also absent travellers are virtually present - that is why we use masks\n",
    "    state_sf_day = np.concatenate((state_sf, state_er_trav))\n",
    "    state_er_day = np.concatenate((state_er, state_sf_trav))\n",
    "    \n",
    "    # make day SIRS step\n",
    "    state_sf_day = SIRS_masked_step(A_sf_day, state_sf_day, mob_mask_sf, beta, mu, gamma)\n",
    "    state_er_day = SIRS_masked_step(A_er_day, state_er_day, mob_mask_er, beta, mu, gamma)\n",
    "    \n",
    "    # extract the state of the travellers\n",
    "    state_sf_trav = state_er_day[N:] \n",
    "    state_er_trav = state_sf_day[N:] \n",
    "\n",
    "    # overwrite them into the original system \n",
    "    state_sf[travellers_sf] = state_sf_trav\n",
    "    state_er[travellers_sf] = state_er_trav\n",
    "    \n",
    "    ### night ###\n",
    "    \n",
    "    # make SIRS step\n",
    "    state_sf = SIRS_step(A_sf, state_sf, beta, mu, gamma)\n",
    "    state_er = SIRS_step(A_er, state_er, beta, mu, gamma)\n",
    "    \n",
    "    return state_sf, state_er"
   ]
  },
  {
   "cell_type": "code",
   "execution_count": 25,
   "metadata": {},
   "outputs": [],
   "source": [
    "def prepare_two_sys(N, I_sf, I_er, p_mob, mean_degree):\n",
    "    \"\"\" \n",
    "    Defines two networks, one with a power law distribution (a.k.a. scale-free distribution),\n",
    "    the other with random connections (binomial or Erdosh-Renyi graph).\n",
    "    Defines two initial states, one for each network, containing categorical information about the status\n",
    "    of each node of the network.\n",
    "    Computes some variables linked to the mobility between the two networks (commuting), \n",
    "    used in the SIRS simulation.\n",
    "    \n",
    "    Parameters\n",
    "    ----------\n",
    "    N : int, number of nodes of each network\n",
    "    I_sf : int, number of initial infected in the scale-free network\n",
    "    I_er : int, number of initial infected in the Erdosh-Renyi network\n",
    "    p_mob : float, probability that each individual has of being a traveller\n",
    "    mean_degree : (even) int, mean degree of each network\n",
    "    \n",
    "    Returns\n",
    "    -------\n",
    "    state_sf : numpy array of shape (N,3) - state of the scale free network\n",
    "        state_sf[:,0] = 1 for the susceptible, 0 for the others\n",
    "        state_sf[:,1] = 1 for the infected, 0 for the others\n",
    "        state_sf[:,2] = 1 for the recovered, 0 for the others\n",
    "        \n",
    "    state_er : numpy array of shape (N,3) - state of the Erdosh-Renyi network\n",
    "    \n",
    "    variables_net_sf : dict, keys = {'travellers_sf', 'new_ids_sf', 'deg_sf', 'A_sf', 'G_sf_stay'}\n",
    "        travellers_sf : numpy array of int, contains the IDs of the travelling nodes\n",
    "        new_ids_sf : dict, contains the pairs {'new_id_sf':old_id}\n",
    "        deg_sf : numpy array of int, contains the degrees of all the travelling nodes\n",
    "        A_sf : numpy matrix, adjacency matrix of the scale-free network\n",
    "        G_sf_stay : networkx Graph instance, graph of the nodes that do not travel\n",
    "        \n",
    "    variables_net_er : dict, keys = {'travellers_er', 'new_ids_er', 'deg_er', 'A_er', 'G_er_stay'}\n",
    "    \"\"\"\n",
    "    ### Topology ###\n",
    "    \n",
    "    p = mean_degree/N # prob of creating an edge\n",
    "    \n",
    "    # create networks\n",
    "    G_sf = nx.barabasi_albert_graph(N,int(mean_degree/2))\n",
    "    G_er = nx.binomial_graph(N,p)\n",
    "    \n",
    "    # get adjacency matrices\n",
    "    A_sf = nx.to_numpy_matrix(G_sf)\n",
    "    A_er = nx.to_numpy_matrix(G_er)\n",
    "    \n",
    "    ### Initial state ###\n",
    "    \n",
    "    state_sf = prepare_init_state(N,I_sf)\n",
    "    state_er = prepare_init_state(N,I_er)\n",
    "    \n",
    "    ### Mobility part ### \n",
    "    \n",
    "    Nij = int(p_mob*N) # number of travellers for each system\n",
    "    \n",
    "    # Choose travellers IDs\n",
    "    travellers_sf = np.random.choice(np.arange(N), size=Nij, replace=False)\n",
    "    travellers_er = np.random.choice(np.arange(N), size=Nij, replace=False)\n",
    "    \n",
    "    # Map the travellers IDs in the other system as N, N+1,...,N+Nij-1\n",
    "    new_ids_sf = {} \n",
    "    for i, ID in enumerate(travellers_sf):\n",
    "        new_ids_sf[i+N] = ID\n",
    "    new_ids_er = {} \n",
    "    for i, ID in enumerate(travellers_er):\n",
    "        new_ids_er[i+N] = ID\n",
    "        \n",
    "    # Compute the adjacency matrices and the networks of the remainers\n",
    "    mob_mask_sf = np.isin(np.arange(N), travellers_sf)\n",
    "    A_sf_stay = np.copy(A_sf)\n",
    "    A_sf_stay[mob_mask_sf,:] = 0\n",
    "    A_sf_stay[:,mob_mask_sf] = 0\n",
    "    G_sf_stay = nx.from_numpy_matrix(A_sf_stay)\n",
    "\n",
    "    mob_mask_er = np.isin(np.arange(N), travellers_er)\n",
    "    A_er_stay = np.copy(A_er)\n",
    "    A_er_stay[mob_mask_er,:] = 0\n",
    "    A_er_stay[:,mob_mask_er] = 0\n",
    "    G_er_stay = nx.from_numpy_matrix(A_er_stay)\n",
    "    \n",
    "    # Compute the original degrees of the travellers\n",
    "    deg_sf = [k for n,k in G_sf.degree(travellers_sf)]\n",
    "    deg_er = [k for n,k in G_sf.degree(travellers_er)]\n",
    "    \n",
    "    # wrap variables in dictionaries \n",
    "    variables_net_sf = {'travellers_sf':travellers_sf, 'new_ids_sf':new_ids_sf, 'deg_sf':deg_sf,\n",
    "                        'A_sf':A_sf, 'G_sf_stay':G_sf_stay }\n",
    "\n",
    "    variables_net_er = {'travellers_er':travellers_er, 'new_ids_er':new_ids_er, 'deg_er':deg_er,\n",
    "                        'A_er':A_er, 'G_er_stay':G_er_stay }\n",
    "    \n",
    "    return state_sf, state_er, variables_net_sf, variables_net_er"
   ]
  },
  {
   "cell_type": "markdown",
   "metadata": {},
   "source": [
    "### Test"
   ]
  },
  {
   "cell_type": "code",
   "execution_count": 26,
   "metadata": {},
   "outputs": [],
   "source": [
    "# parameters\n",
    "N = 1000\n",
    "I_sf = 5\n",
    "I_er = 2\n",
    "p_mob = 0.05\n",
    "mean_degree = 4\n",
    "eps = 0.1\n",
    "beta = 0.09\n",
    "mu = 0.08 # change this, it's the most unreasonable estimate\n",
    "gamma = 0.01"
   ]
  },
  {
   "cell_type": "code",
   "execution_count": 27,
   "metadata": {},
   "outputs": [],
   "source": [
    "# prepare systems\n",
    "state_sf, state_er, variables_net_sf, variables_net_er = prepare_two_sys(N, I_sf, I_er, p_mob, mean_degree)"
   ]
  },
  {
   "cell_type": "code",
   "execution_count": 28,
   "metadata": {},
   "outputs": [
    {
     "data": {
      "text/plain": [
       "{'beta': 0.09, 'mu': 0.08, 'gamma': 0.01}"
      ]
     },
     "execution_count": 28,
     "metadata": {},
     "output_type": "execute_result"
    }
   ],
   "source": [
    "infection_params = dict(beta=beta, mu=mu, gamma=gamma)\n",
    "infection_params"
   ]
  },
  {
   "cell_type": "code",
   "execution_count": 29,
   "metadata": {},
   "outputs": [],
   "source": [
    "state_sf, state_er = two_sys_full_SIRS_step(state_sf, state_er, **variables_net_sf, \n",
    "                                            **variables_net_er, **infection_params)"
   ]
  },
  {
   "cell_type": "code",
   "execution_count": 30,
   "metadata": {},
   "outputs": [
    {
     "name": "stdout",
     "output_type": "stream",
     "text": [
      "Total time elapsed: 72.75 s\n",
      "Time per iteration: 0.0727 s\n"
     ]
    }
   ],
   "source": [
    "import time \n",
    "start = time.time()\n",
    "n_iter = 1000\n",
    "S_sf = []\n",
    "I_sf = []\n",
    "R_sf = []\n",
    "S_er = []\n",
    "I_er = []\n",
    "R_er = []\n",
    "t_vec = []\n",
    "for i in range(n_iter):\n",
    "    state_sf, state_er = two_sys_full_SIRS_step(state_sf, state_er, **variables_net_sf, \n",
    "                                            **variables_net_er, **infection_params)\n",
    "    S_sf.append(state_sf[:,0].sum())\n",
    "    I_sf.append(state_sf[:,1].sum())\n",
    "    R_sf.append(state_sf[:,2].sum())\n",
    "    S_er.append(state_er[:,0].sum())\n",
    "    I_er.append(state_er[:,1].sum())\n",
    "    R_er.append(state_er[:,2].sum())\n",
    "    t_vec.append(time.time()-start)\n",
    "    \n",
    "tot_time = time.time()-start\n",
    "print(\"Total time elapsed: %.2f s\"%tot_time)\n",
    "print(\"Time per iteration: %.4f s\"%(tot_time/n_iter))\n",
    "\n",
    "S_sf = np.array(S_sf)\n",
    "I_sf = np.array(I_sf)\n",
    "R_sf = np.array(R_sf)\n",
    "S_er = np.array(S_er)\n",
    "I_er = np.array(I_er)\n",
    "R_er = np.array(R_er)\n",
    "t_vec = np.array(t_vec)"
   ]
  },
  {
   "cell_type": "code",
   "execution_count": 31,
   "metadata": {},
   "outputs": [
    {
     "data": {
      "image/png": "[encoded data removed]",
      "text/plain": [
       "<Figure size 576x432 with 1 Axes>"
      ]
     },
     "metadata": {
      "needs_background": "light"
     },
     "output_type": "display_data"
    }
   ],
   "source": [
    "indexes = np.arange(n_iter)\n",
    "plt.figure(figsize=(8,6))\n",
    "plt.plot(indexes, S_sf, label = r'$S_{sf}$')\n",
    "plt.plot(indexes, I_sf, label = r'$I_{sf}$')\n",
    "plt.plot(indexes, R_sf, label = r'$R_{sf}$')\n",
    "plt.plot(indexes, S_sf+I_sf+R_sf, label = 'tot')\n",
    "plt.xlabel('Number of iterations', fontsize = 16)\n",
    "plt.ylabel('Number of individuals', fontsize = 16)\n",
    "plt.title(\"Scale-free network\", fontsize = 16)\n",
    "plt.legend(fontsize=13, loc='upper right')\n",
    "plt.show()"
   ]
  },
  {
   "cell_type": "code",
   "execution_count": 32,
   "metadata": {},
   "outputs": [
    {
     "data": {
      "image/png": "[encoded data removed]",
      "text/plain": [
       "<Figure size 576x432 with 1 Axes>"
      ]
     },
     "metadata": {
      "needs_background": "light"
     },
     "output_type": "display_data"
    }
   ],
   "source": [
    "indexes = np.arange(n_iter)\n",
    "plt.figure(figsize=(8,6))\n",
    "plt.plot(indexes, S_er, label = r'$S_{er}$')\n",
    "plt.plot(indexes, I_er, label = r'$I_{er}$')\n",
    "plt.plot(indexes, R_er, label = r'$R_{er}$')\n",
    "plt.plot(indexes, S_er+I_er+R_er, label = 'tot')\n",
    "plt.title(\"Erdosh-Renyi network\", fontsize = 16)\n",
    "plt.xlabel('Number of iterations', fontsize = 16)\n",
    "plt.ylabel('Number of individuals', fontsize = 16)\n",
    "plt.legend(fontsize=13, loc='upper right')\n",
    "plt.show()"
   ]
  },
  {
   "cell_type": "markdown",
   "metadata": {},
   "source": [
    "### Time profiling\n",
    "\n",
    "The objective of this section is to see if there are inefficent parts of the code that can be improved without too much effort."
   ]
  },
  {
   "cell_type": "code",
   "execution_count": 53,
   "metadata": {},
   "outputs": [],
   "source": [
    "def two_sys_full_SIRS_step_v1(state_sf, state_er, travellers_sf, travellers_er, new_ids_sf, new_ids_er, \n",
    "                           deg_sf, deg_er, A_sf, A_er, G_sf_stay, G_er_stay, beta, mu, gamma):\n",
    "    \"\"\" \n",
    "    Simulate a single step of a SIRS dynamics over 2 coupled network with mobility, \n",
    "    taking into account the undelying structure of the networks. \n",
    "    \n",
    "    Parameters\n",
    "    ----------\n",
    "    state_sf: numpy array of shape (N,3) - state of the scale free network\n",
    "        state_sf[:,0] = 1 for the susceptible, 0 for the others\n",
    "        state_sf[:,1] = 1 for the infected, 0 for the others\n",
    "        state_sf[:,2] = 1 for the recovered, 0 for the others\n",
    "    state_er: numpy array of shape (N,3) - state of the Erdosh-Renyi network\n",
    "    **variables_net_sf (see \"prepare_two_sys\" function description)\n",
    "    **variables_net_er (see \"prepare_two_sys\" function description)\n",
    "    **infection_params (beta, mu, gamma)\n",
    "    \n",
    "    Returns\n",
    "    -------\n",
    "    state_sf, state_er, (updated)\n",
    "    time_profile \n",
    "    \"\"\"\n",
    "    N = len(state_sf)\n",
    "    Nij = len(travellers_sf)\n",
    "    N_tot = N + Nij\n",
    "    \n",
    "    import time \n",
    "    \n",
    "    ### day ###\n",
    "    \n",
    "    t0 = time.time()\n",
    "    # compute day networks\n",
    "    _, A_sf_day = attach_travellers(G_sf_stay, new_ids_er, deg_er, N_tot)\n",
    "    _, A_er_day = attach_travellers(G_er_stay, new_ids_sf, deg_sf, N_tot)\n",
    "    t1 = time.time()\n",
    "    \n",
    "    # mobility masks (True if present, False if travelling)\n",
    "    mob_mask_sf = (~np.isin(np.arange(N_tot), travellers_sf)).astype(int)\n",
    "    mob_mask_er = (~np.isin(np.arange(N_tot), travellers_er)).astype(int)\n",
    "    t2 = time.time()\n",
    "    \n",
    "    # states of the travellers\n",
    "    state_sf_trav = state_sf[travellers_sf]\n",
    "    state_er_trav = state_er[travellers_er]\n",
    "    t3 = time.time()\n",
    "    \n",
    "    # stay + travellers of the other system state \n",
    "    # also absent travellers are virtually present - that is why we use masks\n",
    "    state_sf_day = np.concatenate((state_sf, state_er_trav))\n",
    "    state_er_day = np.concatenate((state_er, state_sf_trav))\n",
    "    t4 = time.time()\n",
    "    \n",
    "    # make day SIRS step\n",
    "    state_sf_day = SIRS_masked_step(A_sf_day, state_sf_day, mob_mask_sf, beta, mu, gamma)\n",
    "    state_er_day = SIRS_masked_step(A_er_day, state_er_day, mob_mask_er, beta, mu, gamma)\n",
    "    t5 = time.time()\n",
    "    \n",
    "    # extract the state of the travellers\n",
    "    state_sf_trav = state_er_day[N:] \n",
    "    state_er_trav = state_sf_day[N:] \n",
    "    t6 = time.time()\n",
    "    \n",
    "    # overwrite them into the original system \n",
    "    state_sf[travellers_sf] = state_sf_trav\n",
    "    state_er[travellers_sf] = state_er_trav\n",
    "    t7 = time.time()\n",
    "    \n",
    "    ### night ###\n",
    "    \n",
    "    # make SIRS step\n",
    "    state_sf = SIRS_step(A_sf, state_sf, beta, mu, gamma)\n",
    "    state_er = SIRS_step(A_er, state_er, beta, mu, gamma)\n",
    "    t8 = time.time()\n",
    "    \n",
    "    time_profile = [t1-t0, t2-t1, t3-t2, t4-t3, t5-t4, t6-t5, t7-t6, t8-t7]\n",
    "    return state_sf, state_er, time_profile"
   ]
  },
  {
   "cell_type": "code",
   "execution_count": 33,
   "metadata": {},
   "outputs": [
    {
     "name": "stdout",
     "output_type": "stream",
     "text": [
      "CPU times: user 86 ms, sys: 11.8 ms, total: 97.8 ms\n",
      "Wall time: 88.6 ms\n"
     ]
    }
   ],
   "source": [
    "%%time\n",
    "state_sf, state_er, time_profile = two_sys_full_SIRS_step_v1(state_sf, state_er, **variables_net_sf, \n",
    "                                            **variables_net_er, **infection_params)"
   ]
  },
  {
   "cell_type": "code",
   "execution_count": 34,
   "metadata": {},
   "outputs": [
    {
     "name": "stdout",
     "output_type": "stream",
     "text": [
      "Attach travellers time: 78.267 ms\n",
      "Compute masks time: 0.442 ms\n",
      "Get travellers state time: 0.029 ms\n",
      "Concatenate states time: 0.025 ms\n",
      "SIRS masked steps time: 4.049 ms\n",
      "Get travellers state time: 0.005 ms\n",
      "Recompute states time: 0.021 ms\n",
      "SIRS step time: 3.498 ms\n"
     ]
    }
   ],
   "source": [
    "print(\"Attach travellers time: %.3f ms\"%(time_profile[0]*10**3))\n",
    "print(\"Compute masks time: %.3f ms\"%(time_profile[1]*10**3))\n",
    "print(\"Get travellers state time: %.3f ms\"%(time_profile[2]*10**3))\n",
    "print(\"Concatenate states time: %.3f ms\"%(time_profile[3]*10**3))\n",
    "print(\"SIRS masked steps time: %.3f ms\"%(time_profile[4]*10**3))\n",
    "print(\"Get travellers state time: %.3f ms\"%(time_profile[5]*10**3))\n",
    "print(\"Recompute states time: %.3f ms\"%(time_profile[6]*10**3))\n",
    "print(\"SIRS step time: %.3f ms\"%(time_profile[7]*10**3))"
   ]
  },
  {
   "cell_type": "markdown",
   "metadata": {},
   "source": [
    "As can be seen the bottleneck is in the procedure of attaching the travellers to the new network."
   ]
  },
  {
   "cell_type": "code",
   "execution_count": 35,
   "metadata": {},
   "outputs": [],
   "source": [
    "def attach_travellers_v1(G_sf_stay, new_ids_er, deg_er, N_tot):\n",
    "    \"\"\"\n",
    "    Attach new travellers using preferential attachment and keeping their original degrees.\n",
    "    \n",
    "    Parameters\n",
    "    ----------\n",
    "    G_sf_stay : networkx Graph instance, graph of the nodes that do not travel\n",
    "    new_ids_er :  dict, contains the pairs {'new_id_er':old_id}\n",
    "    deg_er :  numpy array of int, contains the degrees of all the travelling nodes from the ER network\n",
    "    N_tot : int, number of original nodes + travelling nodes\n",
    "    \n",
    "    Returns\n",
    "    -------\n",
    "    G_sf_day :  networkx Graph instance, graph of the nodes that stay in the SF system \n",
    "                + those that come from the ER network\n",
    "    A_sf_day : numpy matrix, adjacency matrix of G_sf_day \n",
    "    \"\"\"\n",
    "    import time\n",
    "    \n",
    "    t0 = time.time()\n",
    "    edge_list_sf = list(G_sf_stay.edges)\n",
    "    t1 = time.time()\n",
    "    for i,ID in enumerate(new_ids_er.keys()):\n",
    "        k = deg_er[i]\n",
    "        indexes = np.random.choice(len(edge_list_sf), size=k, replace=False)\n",
    "        edges = [(ID,np.random.choice(list(edge_list_sf[j]))) for j in indexes]\n",
    "        edge_list_sf += edges # concatenate new edges\n",
    "        #for j in indexes:\n",
    "        #    trg = np.random.choice(list(edge_list_sf[j]))\n",
    "        #    edge_list_sf.append((ID,trg))\n",
    "    t2 = time.time()        \n",
    "    G_sf_day = nx.Graph(edge_list_sf)\n",
    "    t3 = time.time()\n",
    "    # add also the nodes without edges to get the known dimension N_tot\n",
    "    G_sf_day.add_nodes_from(np.arange(N_tot))\n",
    "    t4 = time.time()\n",
    "    A_sf_day = nx.to_numpy_matrix(G_sf_day, nodelist=np.arange(N_tot))\n",
    "    t5 = time.time()\n",
    "    \n",
    "    time_profile = [t1-t0, t2-t1, t3-t2, t4-t3, t5-t4]\n",
    "    return G_sf_day, A_sf_day, time_profile"
   ]
  },
  {
   "cell_type": "code",
   "execution_count": 50,
   "metadata": {},
   "outputs": [
    {
     "name": "stdout",
     "output_type": "stream",
     "text": [
      "25.5 ms ± 961 µs per loop (mean ± std. dev. of 7 runs, 10 loops each)\n"
     ]
    }
   ],
   "source": [
    "%%timeit\n",
    "_, A_sf_day, time_profile1 = attach_travellers_v1(G_sf_stay , new_ids_er, deg_er, N_tot)"
   ]
  },
  {
   "cell_type": "code",
   "execution_count": 41,
   "metadata": {},
   "outputs": [
    {
     "name": "stdout",
     "output_type": "stream",
     "text": [
      "Get list of edges time: 1.621 ms\n",
      "Append new edges time: 17.954 ms\n",
      "Create new graph time: 3.989 ms\n",
      "Add missing nodes time: 1.048 ms\n",
      "Get adjacency matrix time: 11.340 ms\n"
     ]
    }
   ],
   "source": [
    "print(\"Get list of edges time: %.3f ms\"%(time_profile1[0]*10**3))\n",
    "print(\"Append new edges time: %.3f ms\"%(time_profile1[1]*10**3))\n",
    "print(\"Create new graph time: %.3f ms\"%(time_profile1[2]*10**3))\n",
    "print(\"Add missing nodes time: %.3f ms\"%(time_profile1[3]*10**3))\n",
    "print(\"Get adjacency matrix time: %.3f ms\"%(time_profile1[4]*10**3))"
   ]
  },
  {
   "cell_type": "markdown",
   "metadata": {},
   "source": [
    "The time gets spent in two different parts: adding the new edges to the list of edges and creating the adjacency matrix. We can take a shortcut in creating the matrix directly with numpy as follows:"
   ]
  },
  {
   "cell_type": "code",
   "execution_count": 48,
   "metadata": {},
   "outputs": [
    {
     "name": "stdout",
     "output_type": "stream",
     "text": [
      "1750\n",
      "3500.0\n",
      "CPU times: user 9.87 ms, sys: 168 µs, total: 10 ms\n",
      "Wall time: 6.83 ms\n"
     ]
    }
   ],
   "source": [
    "%%time\n",
    "edge_list_sf = list(G_sf_stay.edges)\n",
    "A = np.zeros((N_tot,N_tot)) \n",
    "edge_list_sf = np.array(edge_list_sf)\n",
    "x = edge_list_sf[:,0]\n",
    "y = edge_list_sf[:,1]\n",
    "A[x,y] = 1\n",
    "A[y,x] = 1\n",
    "print(len(edge_list_sf))\n",
    "print(A.sum())"
   ]
  },
  {
   "cell_type": "markdown",
   "metadata": {},
   "source": [
    "On average this results in being twice as fast (13 ms vs 25.5ms)."
   ]
  },
  {
   "cell_type": "code",
   "execution_count": 52,
   "metadata": {},
   "outputs": [],
   "source": [
    "def attach_travellers_v2(G_sf_stay, new_ids_er, deg_er, N_tot):\n",
    "    \"\"\"\n",
    "    Attach new travellers using preferential attachment and keeping their original degrees.\n",
    "    \n",
    "    Parameters\n",
    "    ----------\n",
    "    G_sf_stay : networkx Graph instance, graph of the nodes that do not travel\n",
    "    new_ids_er :  dict, contains the pairs {'new_id_er':old_id}\n",
    "    deg_er :  numpy array of int, contains the degrees of all the travelling nodes from the ER network\n",
    "    N_tot : int, number of original nodes + travelling nodes\n",
    "    \n",
    "    Returns\n",
    "    -------\n",
    "    A_sf_day : numpy matrix, adjacency matrix of G_sf_day \n",
    "    \"\"\"\n",
    "    import time\n",
    "    \n",
    "    t0 = time.time()\n",
    "    edge_list_sf = list(G_sf_stay.edges)\n",
    "    t1 = time.time()\n",
    "    for i,ID in enumerate(new_ids_er.keys()):\n",
    "        k = deg_er[i]\n",
    "        indexes = np.random.choice(len(edge_list_sf), size=k, replace=False)\n",
    "        edges = [(ID,np.random.choice(list(edge_list_sf[j]))) for j in indexes]\n",
    "        edge_list_sf += edges # concatenate new edges\n",
    "    t2 = time.time() \n",
    "    edge_list_sf = np.array(edge_list_sf)\n",
    "    x = edge_list_sf[:,0]\n",
    "    y = edge_list_sf[:,1]\n",
    "    A_sf_day = np.zeros((N_tot,N_tot)) \n",
    "    A_sf_day[x,y] = 1\n",
    "    A_sf_day[y,x] = 1     \n",
    "    t3 = time.time() \n",
    "    \n",
    "    time_profile = [t1-t0, t2-t1, t3-t2]\n",
    "    return A_sf_day, time_profile"
   ]
  },
  {
   "cell_type": "code",
   "execution_count": 49,
   "metadata": {},
   "outputs": [
    {
     "name": "stdout",
     "output_type": "stream",
     "text": [
      "13 ms ± 292 µs per loop (mean ± std. dev. of 7 runs, 100 loops each)\n"
     ]
    }
   ],
   "source": [
    "%%timeit\n",
    "A_sf_day, time_profile2 = attach_travellers_v2(G_sf_stay , new_ids_er, deg_er, N_tot)"
   ]
  },
  {
   "cell_type": "code",
   "execution_count": 51,
   "metadata": {},
   "outputs": [
    {
     "name": "stdout",
     "output_type": "stream",
     "text": [
      "Get list of edges time: 1.936 ms\n",
      "Append new edges time: 16.329 ms\n",
      "Get adjacency matrix time: 4.868 ms\n"
     ]
    }
   ],
   "source": [
    "print(\"Get list of edges time: %.3f ms\"%(time_profile2[0]*10**3))\n",
    "print(\"Append new edges time: %.3f ms\"%(time_profile2[1]*10**3))\n",
    "print(\"Get adjacency matrix time: %.3f ms\"%(time_profile2[2]*10**3))"
   ]
  }
 ],
 "metadata": {
  "kernelspec": {
   "display_name": "Python 3",
   "language": "python",
   "name": "python3"
  },
  "language_info": {
   "codemirror_mode": {
    "name": "ipython",
    "version": 3
   },
   "file_extension": ".py",
   "mimetype": "text/x-python",
   "name": "python",
   "nbconvert_exporter": "python",
   "pygments_lexer": "ipython3",
   "version": "3.7.4"
  }
 },
 "nbformat": 4,
 "nbformat_minor": 2
}
